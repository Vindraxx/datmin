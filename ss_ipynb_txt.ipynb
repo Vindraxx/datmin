{
  "nbformat": 4,
  "nbformat_minor": 0,
  "metadata": {
    "colab": {
      "provenance": []
    },
    "kernelspec": {
      "name": "python3",
      "display_name": "Python 3"
    },
    "language_info": {
      "name": "python"
    }
  },
  "cells": [
    {
      "cell_type": "code",
      "metadata": {
        "id": "IklTYiWZVgVN"
      },
      "source": [
        "\n",
        "\n",
        "import numpy as np\n",
        "import pandas as pd\n",
        "from sklearn import tree"
      ],
      "execution_count": 31,
      "outputs": []
    },
    {
      "cell_type": "code",
      "metadata": {
        "id": "awYc77BNV88s"
      },
      "source": [
        "iris = pd.read_excel(\"Dataset Iris (2).xlsx\")\n",
        "iris[\"Species\"] = pd.factorize(iris.Species)[0]\n",
        "iris=iris.to_numpy()"
      ],
      "execution_count": 32,
      "outputs": []
    },
    {
      "cell_type": "code",
      "metadata": {
        "id": "Yg3xOE5dWZM7"
      },
      "source": [
        "\n",
        "datatraining=np.concatenate((iris[0:40,:],iris[50:90,:]), axis=0)\n",
        "datatesting=np.concatenate((iris[40:50,:],iris[90:100,:]), axis=0)"
      ],
      "execution_count": 37,
      "outputs": []
    },
    {
      "cell_type": "code",
      "metadata": {
        "id": "rvS3w3ulaS-h"
      },
      "source": [
        "inputtraining =datatraining[:,0:4]\n",
        "inputtesting =datatesting[:,0:4]\n",
        "labeltraining = datatraining[:,4]\n",
        "labeltesting = datatesting[:,4]"
      ],
      "execution_count": 38,
      "outputs": []
    },
    {
      "cell_type": "code",
      "metadata": {
        "id": "Qilt5_XdafYe",
        "colab": {
          "base_uri": "https://localhost:8080/"
        },
        "outputId": "b1599d91-0e8b-4a79-8187-6732423d3f02"
      },
      "source": [
        "model = tree.DecisionTreeRegressor()\n",
        "model = model.fit(inputtraining,labeltraining)\n",
        "hasil=model.predict(inputtesting)\n",
        "print(\"label sebenarnya\", labeltesting)\n",
        "print(\"hasil prediksi\", hasil)\n",
        "prediksibener=(hasil==labeltesting).sum()\n",
        "prediksisalah=(hasil!=labeltesting).sum()\n",
        "print(\"Prediksi benar\", prediksibener,\" data\")\n",
        "print(\"Prediksi salah\", prediksisalah,\" data\")\n",
        "print(\"akurasi\", prediksibener/(prediksibener+prediksisalah)*100)"
      ],
      "execution_count": 44,
      "outputs": [
        {
          "output_type": "stream",
          "name": "stdout",
          "text": [
            "label sebenarnya [1.02 1.04 1.02 1.   1.03 1.02 1.03 1.03 1.01 1.03 2.04 2.03 1.09 2.03\n",
            " 2.05 2.03 1.09 2.   2.03 1.08]\n",
            "hasil prediksi [1.06 1.04 1.01 1.   1.06 1.06 1.06 1.03 1.   1.   2.02 2.01 1.05 1.08\n",
            " 1.08 1.07 1.04 1.08 2.04 2.04]\n",
            "Prediksi benar 3  data\n",
            "Prediksi salah 17  data\n",
            "akurasi 15.0\n"
          ]
        }
      ]
    },
    {
      "cell_type": "code",
      "source": [],
      "metadata": {
        "id": "IfSAbjr4Sa0P"
      },
      "execution_count": null,
      "outputs": []
    }
  ]
}